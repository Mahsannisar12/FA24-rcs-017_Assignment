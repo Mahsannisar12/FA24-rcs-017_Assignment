{
 "cells": [
  {
   "cell_type": "code",
   "execution_count": 3,
   "id": "6a6fcd02-52ca-41e2-9441-b475e4e8c217",
   "metadata": {},
   "outputs": [
    {
     "name": "stdout",
     "output_type": "stream",
     "text": [
      "Cubes: [27, 125, 343, 512, 1728]\n"
     ]
    }
   ],
   "source": [
    "#task: 1.1\n",
    "nums = [3, 5, 7, 8, 12]\n",
    "\n",
    "cubes = []\n",
    "\n",
    "for num in nums:\n",
    "    cubes.append(num ** 3)\n",
    "\n",
    "print(\"Cubes:\", cubes)\n"
   ]
  },
  {
   "cell_type": "code",
   "execution_count": 5,
   "id": "4730c039-48e5-451a-9fd1-bdf98f35f987",
   "metadata": {},
   "outputs": [
    {
     "name": "stdout",
     "output_type": "stream",
     "text": [
      "{'parrot': 2, 'goat': 4, 'spider': 8, 'crab': 10}\n"
     ]
    }
   ],
   "source": [
    "#task: 1.2\n",
    "dict = {}\n",
    "\n",
    "dict['parrot'] = 2\n",
    "dict['goat'] = 4\n",
    "dict['spider'] = 8\n",
    "dict['crab'] = 10\n",
    "\n",
    "print(dict)\n"
   ]
  },
  {
   "cell_type": "code",
   "execution_count": 3,
   "id": "392d42c4-9fd1-4650-8f20-4448d87a92e6",
   "metadata": {},
   "outputs": [
    {
     "name": "stdout",
     "output_type": "stream",
     "text": [
      "The parrot has 2 legs.\n",
      "The goat has 4 legs.\n",
      "The spider has 8 legs.\n",
      "The crab has 10 legs.\n",
      "\n",
      "Total number of legs: 24\n"
     ]
    }
   ],
   "source": [
    "#task: 1.3\n",
    "\n",
    "dict = {}\n",
    "\n",
    "dict['parrot'] = 2\n",
    "dict['goat'] = 4\n",
    "dict['spider'] = 8\n",
    "dict['crab'] = 10\n",
    "\n",
    "total_legs = 0\n",
    "\n",
    "for animal, dict in dict.items():\n",
    "    print(f\"The {animal} has {dict} legs.\")\n",
    "    total_legs += dict \n",
    "\n",
    "print(f\"\\nTotal number of legs: {total_legs}\")"
   ]
  },
  {
   "cell_type": "code",
   "execution_count": 5,
   "id": "14094c97-38c6-4c7f-ab1f-ef712e315bb0",
   "metadata": {},
   "outputs": [
    {
     "name": "stdout",
     "output_type": "stream",
     "text": [
      "(3, 9, 4, [8, 6])\n"
     ]
    }
   ],
   "source": [
    "#task: 1.4\n",
    "\n",
    "A = (3, 9, 4, [5, 6])\n",
    "\n",
    "A[3][0] = 8\n",
    "\n",
    "print(A)\n"
   ]
  },
  {
   "cell_type": "code",
   "execution_count": 11,
   "id": "6b25ff51-1018-476b-a441-b1f81753893b",
   "metadata": {},
   "outputs": [
    {
     "name": "stdout",
     "output_type": "stream",
     "text": [
      "(3, 9, 4, [8, 6])\n",
      "name 'A' is not defined\n"
     ]
    }
   ],
   "source": [
    "#task: 1.5\n",
    "\n",
    "A = (3, 9, 4, [5, 6])\n",
    "\n",
    "A[3][0] = 8\n",
    "\n",
    "print(A)\n",
    "\n",
    "del A\n",
    "\n",
    "try:\n",
    "    print(A)\n",
    "except NameError as e:\n",
    "    print(e)\n"
   ]
  },
  {
   "cell_type": "code",
   "execution_count": 13,
   "id": "0555f4bc-30a9-4ab8-a252-1b0f99ca7c71",
   "metadata": {},
   "outputs": [
    {
     "name": "stdout",
     "output_type": "stream",
     "text": [
      "2\n"
     ]
    }
   ],
   "source": [
    "#task: 1.6\n",
    "\n",
    "B = ('a', 'p', 'p', 'l', 'e')\n",
    "count_p = B.count('p')\n",
    "print(count_p)\n",
    "\n"
   ]
  },
  {
   "cell_type": "code",
   "execution_count": 15,
   "id": "0c9c18b9-a5ef-4fb0-ad2d-a2fa0fe43406",
   "metadata": {},
   "outputs": [
    {
     "name": "stdout",
     "output_type": "stream",
     "text": [
      "3\n"
     ]
    }
   ],
   "source": [
    "#task; 1.7\n",
    "\n",
    "B = ('a', 'p', 'p', 'l', 'e')\n",
    "index_l = B.index('l')\n",
    "print(index_l)\n"
   ]
  },
  {
   "cell_type": "code",
   "execution_count": 17,
   "id": "f392872b-6a85-4c5f-ba07-bd8cf0426f67",
   "metadata": {},
   "outputs": [
    {
     "name": "stdout",
     "output_type": "stream",
     "text": [
      "[[ 1  2  3  4]\n",
      " [ 5  6  7  8]\n",
      " [ 9 10 11 12]]\n"
     ]
    }
   ],
   "source": [
    "#Task: 2 Numpy\n",
    "#task: 2.1\n",
    "\n",
    "import numpy as np\n",
    "\n",
    "A = np.array([[1, 2, 3, 4],\n",
    "              [5, 6, 7, 8],\n",
    "              [9, 10, 11, 12]])\n",
    "\n",
    "print(A)\n",
    "\n"
   ]
  },
  {
   "cell_type": "code",
   "execution_count": 19,
   "id": "0e4a0df4-4e52-4e1e-8cab-4ac3056fd658",
   "metadata": {},
   "outputs": [
    {
     "name": "stdout",
     "output_type": "stream",
     "text": [
      "[[2 3]\n",
      " [6 7]]\n"
     ]
    }
   ],
   "source": [
    "#Task: 2.2\n",
    "\n",
    "import numpy as np\n",
    "\n",
    "A = np.array([[1, 2, 3, 4],\n",
    "              [5, 6, 7, 8],\n",
    "              [9, 10, 11, 12]])\n",
    "\n",
    "b = A[:2, 1:3]\n",
    "\n",
    "print(b)\n",
    "\n"
   ]
  },
  {
   "cell_type": "code",
   "execution_count": 21,
   "id": "dfe552f5-d9c3-4e04-9e5a-2b21b846dde7",
   "metadata": {},
   "outputs": [
    {
     "name": "stdout",
     "output_type": "stream",
     "text": [
      "[[1819305298  543515489 1835365481 1702043763]\n",
      " [1952671084 1998611557  543716457 1634541665]\n",
      " [     27507 1970037110      29541          0]]\n"
     ]
    }
   ],
   "source": [
    "#Task: 2.3 \n",
    "\n",
    "import numpy as np\n",
    "\n",
    "A = np.array([[1, 2, 3, 4],\n",
    "              [5, 6, 7, 8],\n",
    "              [9, 10, 11, 12]])\n",
    "\n",
    "C = np.empty_like(A)\n",
    "\n",
    "print(C)\n"
   ]
  },
  {
   "cell_type": "code",
   "execution_count": 23,
   "id": "6ace4546-35a0-4da7-b941-bc75590a6a78",
   "metadata": {},
   "outputs": [
    {
     "name": "stdout",
     "output_type": "stream",
     "text": [
      "[[ 2  3  4  5]\n",
      " [ 5  6  7  8]\n",
      " [10 11 12 13]]\n"
     ]
    }
   ],
   "source": [
    "#Task: 2.4\n",
    "\n",
    "import numpy as np\n",
    "A = np.array([[1, 2, 3, 4],\n",
    "              [5, 6, 7, 8],\n",
    "              [9, 10, 11, 12]])\n",
    "\n",
    "z = np.array([1, 0, 1])\n",
    "\n",
    "C = np.empty_like(A)\n",
    "\n",
    "for i in range(A.shape[1]):  # Iterate over columns\n",
    "    C[:, i] = A[:, i] + z\n",
    "\n",
    "print(C)\n"
   ]
  },
  {
   "cell_type": "code",
   "execution_count": 1,
   "id": "21111f12-1ecd-41d7-9351-c2606b06976b",
   "metadata": {},
   "outputs": [
    {
     "name": "stdout",
     "output_type": "stream",
     "text": [
      "[[ 6  8]\n",
      " [10 12]]\n"
     ]
    }
   ],
   "source": [
    "#Task: 2.5\n",
    "import numpy as np\n",
    "\n",
    "X = np.array([[1, 2], [3, 4]])\n",
    "Y = np.array([[5, 6], [7, 8]])\n",
    "\n",
    "Z = X + Y\n",
    "\n",
    "print(Z)\n"
   ]
  },
  {
   "cell_type": "code",
   "execution_count": 3,
   "id": "64efb33f-13dd-45be-968f-2d05adf41e78",
   "metadata": {},
   "outputs": [
    {
     "name": "stdout",
     "output_type": "stream",
     "text": [
      "[[19 22]\n",
      " [43 50]]\n"
     ]
    }
   ],
   "source": [
    "#Task: 2.6\n",
    "import numpy as np\n",
    "\n",
    "X = np.array([[1, 2], [3, 4]])\n",
    "Y = np.array([[5, 6], [7, 8]])\n",
    "\n",
    "Z = np.dot(X, Y) \n",
    "\n",
    "print(Z)\n"
   ]
  },
  {
   "cell_type": "code",
   "execution_count": 5,
   "id": "0d84c3c2-1d1a-4a86-9800-782c2e7f7f78",
   "metadata": {},
   "outputs": [
    {
     "name": "stdout",
     "output_type": "stream",
     "text": [
      "[[2.23606798 2.44948974]\n",
      " [2.64575131 2.82842712]]\n"
     ]
    }
   ],
   "source": [
    "#Task: 2.7\n",
    "import numpy as np\n",
    "\n",
    "Y = np.array([[5, 6], [7, 8]])\n",
    "\n",
    "sqrt_Y = np.sqrt(Y)\n",
    "\n",
    "print(sqrt_Y)\n"
   ]
  },
  {
   "cell_type": "code",
   "execution_count": 7,
   "id": "4688d3f9-bc54-4612-906c-d14bffa8dd3f",
   "metadata": {},
   "outputs": [
    {
     "name": "stdout",
     "output_type": "stream",
     "text": [
      "[29 67]\n"
     ]
    }
   ],
   "source": [
    "#Task: 2.8\n",
    "import numpy as np\n",
    "\n",
    "X = np.array([[1, 2], [3, 4]])\n",
    "v = np.array([9, 10])\n",
    "\n",
    "dot_product = np.dot(X, v) \n",
    "\n",
    "print(dot_product)\n"
   ]
  },
  {
   "cell_type": "code",
   "execution_count": 9,
   "id": "bc2eb49b-e0ce-469d-9ac0-2021e91e24c0",
   "metadata": {},
   "outputs": [
    {
     "name": "stdout",
     "output_type": "stream",
     "text": [
      "[4 6]\n"
     ]
    }
   ],
   "source": [
    "#Task: 2.9\n",
    "import numpy as np\n",
    "\n",
    "X = np.array([[1, 2], [3, 4]])\n",
    "\n",
    "column_sum = np.sum(X, axis=0)\n",
    "\n",
    "print(column_sum)\n"
   ]
  },
  {
   "cell_type": "code",
   "execution_count": 13,
   "id": "da441b78-b88f-4aae-8b0d-d6dca3c6fcff",
   "metadata": {},
   "outputs": [
    {
     "name": "stdout",
     "output_type": "stream",
     "text": [
      "Velocity: 10.0 m/s\n"
     ]
    }
   ],
   "source": [
    "#Task 3: Functions and Loops\n",
    "#Task:3.1\n",
    "def Compute(distance, time):\n",
    "    \n",
    "    if time == 0:\n",
    "        return \"Time cannot be zero\"\n",
    "    velocity = distance / time\n",
    "    return velocity\n",
    "\n",
    "distance = 100  \n",
    "time = 10      \n",
    "print(\"Velocity:\", Compute(distance, time), \"m/s\")\n"
   ]
  },
  {
   "cell_type": "code",
   "execution_count": 15,
   "id": "c7dc701e-5211-4a0d-97aa-9b0b1f90c9b4",
   "metadata": {},
   "outputs": [
    {
     "name": "stdout",
     "output_type": "stream",
     "text": [
      "46080\n"
     ]
    }
   ],
   "source": [
    "#Task: 3.2\n",
    "\n",
    "even_num = [2, 4, 6, 8, 10, 12]\n",
    "\n",
    "def mult(numbers):\n",
    "    product = 1\n",
    "    for num in numbers:\n",
    "        product *= num\n",
    "    return product\n",
    "\n",
    "result = mult(even_num)\n",
    "print(result)\n"
   ]
  },
  {
   "cell_type": "code",
   "execution_count": 17,
   "id": "bfe5da26-8ecc-4c9a-895f-5db97a0826aa",
   "metadata": {},
   "outputs": [
    {
     "name": "stdout",
     "output_type": "stream",
     "text": [
      "   C1  C2  C3  C4\n",
      "0   1   6   7   7\n",
      "1   2   7   9   5\n"
     ]
    }
   ],
   "source": [
    "#Task 4: Pandas\n",
    "#Task: 4.1\n",
    "import pandas as pd\n",
    "\n",
    "data = {'C1': [1, 2, 3, 5, 5],\n",
    "        'C2': [6, 7, 5, 4, 8],\n",
    "        'C3': [7, 9, 8, 6, 5],\n",
    "        'C4': [7, 5, 2, 8, 8]}\n",
    "\n",
    "df = pd.DataFrame(data)\n",
    "print(df.head(2))\n"
   ]
  },
  {
   "cell_type": "code",
   "execution_count": 19,
   "id": "d789dae9-16c6-46f9-96be-f1d48964db94",
   "metadata": {},
   "outputs": [
    {
     "name": "stdout",
     "output_type": "stream",
     "text": [
      "0    6\n",
      "1    7\n",
      "2    5\n",
      "3    4\n",
      "4    8\n",
      "Name: C2, dtype: int64\n"
     ]
    }
   ],
   "source": [
    "#Task: 4.2\n",
    "import pandas as pd\n",
    "\n",
    "data = {'C1': [1, 2, 3, 5, 5],\n",
    "        'C2': [6, 7, 5, 4, 8],\n",
    "        'C3': [7, 9, 8, 6, 5],\n",
    "        'C4': [7, 5, 2, 8, 8]}\n",
    "\n",
    "df = pd.DataFrame(data)\n",
    "\n",
    "print(df['C2'])\n"
   ]
  },
  {
   "cell_type": "code",
   "execution_count": 21,
   "id": "185d1a5a-0178-417e-b9b6-6b727fb49f72",
   "metadata": {},
   "outputs": [
    {
     "name": "stdout",
     "output_type": "stream",
     "text": [
      "   C1  C2  B3  C4\n",
      "0   1   6   7   7\n",
      "1   2   7   9   5\n",
      "2   3   5   8   2\n",
      "3   5   4   6   8\n",
      "4   5   8   5   8\n"
     ]
    }
   ],
   "source": [
    "#Task: 4.3\n",
    "import pandas as pd\n",
    "\n",
    "data = {'C1': [1, 2, 3, 5, 5],\n",
    "        'C2': [6, 7, 5, 4, 8],\n",
    "        'C3': [7, 9, 8, 6, 5],\n",
    "        'C4': [7, 5, 2, 8, 8]}\n",
    "\n",
    "df = pd.DataFrame(data)\n",
    "\n",
    "df.rename(columns={'C3': 'B3'}, inplace=True)\n",
    "\n",
    "print(df)\n"
   ]
  },
  {
   "cell_type": "code",
   "execution_count": 23,
   "id": "8bb32ccc-828e-4606-9a2e-d9258e6909c1",
   "metadata": {},
   "outputs": [
    {
     "name": "stdout",
     "output_type": "stream",
     "text": [
      "   C1  C2  C3  C4  Sum\n",
      "0   1   6   7   7   21\n",
      "1   2   7   9   5   23\n",
      "2   3   5   8   2   18\n",
      "3   5   4   6   8   23\n",
      "4   5   8   5   8   26\n"
     ]
    }
   ],
   "source": [
    "#Task: 4.4\n",
    "import pandas as pd\n",
    "\n",
    "data = {\n",
    "    'C1': [1, 2, 3, 5, 5],\n",
    "    'C2': [6, 7, 5, 4, 8],\n",
    "    'C3': [7, 9, 8, 6, 5],\n",
    "    'C4': [7, 5, 2, 8, 8]\n",
    "}\n",
    "\n",
    "df = pd.DataFrame(data)\n",
    "\n",
    "df['Sum'] = df.sum(axis=1)\n",
    "\n",
    "print(df)\n"
   ]
  },
  {
   "cell_type": "code",
   "execution_count": 25,
   "id": "796add45-daa1-4f13-b7d4-48bd2d764827",
   "metadata": {},
   "outputs": [
    {
     "name": "stdout",
     "output_type": "stream",
     "text": [
      "   C1  C2  C3  C4  Sum\n",
      "0   1   6   7   7   21\n",
      "1   2   7   9   5   23\n",
      "2   3   5   8   2   18\n",
      "3   5   4   6   8   23\n",
      "4   5   8   5   8   26\n"
     ]
    }
   ],
   "source": [
    "#Task: 4.5\n",
    "import pandas as pd\n",
    "data = {\n",
    "    'C1': [1, 2, 3, 5, 5],\n",
    "    'C2': [6, 7, 5, 4, 8],\n",
    "    'C3': [7, 9, 8, 6, 5],\n",
    "    'C4': [7, 5, 2, 8, 8]\n",
    "}\n",
    "\n",
    "df = pd.DataFrame(data)\n",
    "\n",
    "df['Sum'] = df.sum(axis=1)\n",
    "\n",
    "print(df)\n"
   ]
  },
  {
   "cell_type": "code",
   "execution_count": null,
   "id": "84dc566e-1202-40e1-8ad8-570cda352959",
   "metadata": {},
   "outputs": [],
   "source": [
    "#Task: 4.6\n",
    "import pandas as pd\n",
    "\n",
    "file_path = 'hello_sample.csv' \n",
    "\n",
    "df = pd.read_csv(file_path)\n",
    "print(df)"
   ]
  },
  {
   "cell_type": "code",
   "execution_count": 29,
   "id": "1613c6cc-a029-44db-8e0c-6d0e4aa6b4ee",
   "metadata": {},
   "outputs": [
    {
     "name": "stdout",
     "output_type": "stream",
     "text": [
      "   C1  C2  C3  C4  Sum\n",
      "0   1   6   7   7   21\n",
      "1   2   7   9   5   23\n",
      "2   3   5   8   2   18\n",
      "3   5   4   6   8   23\n",
      "4   5   8   5   8   26\n"
     ]
    }
   ],
   "source": [
    "#Task: 4.7\n",
    "import pandas as pd\n",
    "\n",
    "pd.set_option('display.max_rows', None)  \n",
    "pd.set_option('display.max_columns', None) \n",
    "\n",
    "print(df)"
   ]
  },
  {
   "cell_type": "code",
   "execution_count": 3,
   "id": "bf9e7d76-802b-4625-b3f4-7b17a07403fd",
   "metadata": {},
   "outputs": [
    {
     "name": "stdout",
     "output_type": "stream",
     "text": [
      "   C1  C2  C3  C4\n",
      "3   5   4   6   8\n",
      "4   5   8   5   8\n"
     ]
    }
   ],
   "source": [
    "#Task: 4.8\n",
    "import pandas as pd\n",
    "data = {\n",
    "    'C1': [1, 2, 3, 5, 5],\n",
    "    'C2': [6, 7, 5, 4, 8],\n",
    "    'C3': [7, 9, 8, 6, 5],\n",
    "    'C4': [7, 5, 2, 8, 8]\n",
    "}\n",
    "\n",
    "df = pd.DataFrame(data)\n",
    "\n",
    "print(df.tail(2))\n",
    "\n"
   ]
  },
  {
   "cell_type": "code",
   "execution_count": 5,
   "id": "76e0665e-28c8-4fd8-b139-9bc8b737d026",
   "metadata": {},
   "outputs": [
    {
     "name": "stdout",
     "output_type": "stream",
     "text": [
      "<class 'pandas.core.frame.DataFrame'>\n",
      "RangeIndex: 5 entries, 0 to 4\n",
      "Data columns (total 4 columns):\n",
      " #   Column  Non-Null Count  Dtype\n",
      "---  ------  --------------  -----\n",
      " 0   C1      5 non-null      int64\n",
      " 1   C2      5 non-null      int64\n",
      " 2   C3      5 non-null      int64\n",
      " 3   C4      5 non-null      int64\n",
      "dtypes: int64(4)\n",
      "memory usage: 292.0 bytes\n",
      "None\n"
     ]
    }
   ],
   "source": [
    "#Task: 4.9\n",
    "import pandas as pd\n",
    "data = {\n",
    "    'C1': [1, 2, 3, 5, 5],\n",
    "    'C2': [6, 7, 5, 4, 8],\n",
    "    'C3': [7, 9, 8, 6, 5],\n",
    "    'C4': [7, 5, 2, 8, 8]\n",
    "}\n",
    "\n",
    "df = pd.DataFrame(data)\n",
    "\n",
    "print(df.info())\n"
   ]
  },
  {
   "cell_type": "code",
   "execution_count": 7,
   "id": "6e5b0462-1de0-4014-8efa-0cea4cbf4001",
   "metadata": {},
   "outputs": [
    {
     "name": "stdout",
     "output_type": "stream",
     "text": [
      "(5, 4)\n"
     ]
    }
   ],
   "source": [
    "#Task: 4.10\n",
    "import pandas as pd\n",
    "\n",
    "data = {\n",
    "    'C1': [1, 2, 3, 5, 5],\n",
    "    'C2': [6, 7, 5, 4, 8],\n",
    "    'C3': [7, 9, 8, 6, 5],\n",
    "    'C4': [7, 5, 2, 8, 8]\n",
    "}\n",
    "\n",
    "df = pd.DataFrame(data)\n",
    "\n",
    "print(df.shape)\n",
    "\n"
   ]
  },
  {
   "cell_type": "code",
   "execution_count": 37,
   "id": "624dbd7c-6c74-4b2e-bdd0-4780b6fb74f6",
   "metadata": {},
   "outputs": [
    {
     "name": "stdout",
     "output_type": "stream",
     "text": [
      "   C1  C2  C3  C4\n",
      "3   5   4   6   8\n",
      "2   3   5   8   2\n",
      "0   1   6   7   7\n",
      "1   2   7   9   5\n",
      "4   5   8   5   8\n"
     ]
    }
   ],
   "source": [
    "#Task: 4.11\n",
    "import pandas as pd\n",
    "\n",
    "data = {\n",
    "    'C1': [1, 2, 3, 5, 5],\n",
    "    'C2': [6, 7, 5, 4, 8],\n",
    "    'C3': [7, 9, 8, 6, 5],\n",
    "    'C4': [7, 5, 2, 8, 8]\n",
    "}\n",
    "\n",
    "df = pd.DataFrame(data)\n",
    "\n",
    "df_sorted = df.sort_values(by='C2')\n",
    "\n",
    "print(df_sorted)\n"
   ]
  },
  {
   "cell_type": "code",
   "execution_count": 39,
   "id": "2d367fad-27b2-430e-a045-ed27e3cd3e02",
   "metadata": {},
   "outputs": [
    {
     "name": "stdout",
     "output_type": "stream",
     "text": [
      "Missing values in the DataFrame:\n",
      "      C1     C2     C3     C4  Weight\n",
      "0  False  False  False  False   False\n",
      "1  False  False  False  False   False\n",
      "2   True  False  False  False   False\n",
      "3  False  False   True  False   False\n",
      "4  False  False  False  False    True\n",
      "\n",
      "DataFrame after dropping rows with missing values:\n",
      "    C1  C2   C3  C4  Weight\n",
      "0  1.0   6  7.0   7    10.0\n",
      "1  2.0   7  9.0   5    20.0\n"
     ]
    }
   ],
   "source": [
    "#Task: 4.12\n",
    "import pandas as pd\n",
    "import numpy as np\n",
    "\n",
    "data = {\n",
    "    'C1': [1, 2, np.nan, 5, 5],  \n",
    "    'C2': [6, 7, 5, 4, 8],\n",
    "    'C3': [7, 9, 8, np.nan, 5], \n",
    "    'C4': [7, 5, 2, 8, 8],\n",
    "    'Weight': [10, 20, 15, 5, np.nan] \n",
    "}\n",
    "\n",
    "df = pd.DataFrame(data)\n",
    "\n",
    "print(\"Missing values in the DataFrame:\")\n",
    "print(df.isnull())\n",
    "\n",
    "df_cleaned = df.dropna()\n",
    "\n",
    "print(\"\\nDataFrame after dropping rows with missing values:\")\n",
    "print(df_cleaned)\n"
   ]
  },
  {
   "cell_type": "code",
   "execution_count": null,
   "id": "381e4797-3580-4adb-807c-a977a0c9d022",
   "metadata": {},
   "outputs": [],
   "source": []
  }
 ],
 "metadata": {
  "kernelspec": {
   "display_name": "Python 3 (ipykernel)",
   "language": "python",
   "name": "python3"
  },
  "language_info": {
   "codemirror_mode": {
    "name": "ipython",
    "version": 3
   },
   "file_extension": ".py",
   "mimetype": "text/x-python",
   "name": "python",
   "nbconvert_exporter": "python",
   "pygments_lexer": "ipython3",
   "version": "3.12.4"
  }
 },
 "nbformat": 4,
 "nbformat_minor": 5
}
